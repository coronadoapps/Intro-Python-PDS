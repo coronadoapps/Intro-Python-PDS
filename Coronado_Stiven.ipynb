{
 "cells": [
  {
   "cell_type": "markdown",
   "metadata": {},
   "source": [
    "# 2. Ejercicios de Python\n",
    "- Escriba un programa que encuentre el valor aproximado del número de euler en base a la suma infinita de la ecuación 1. El usuario debe ingresar el número de elementos usados en la aproximación.\n",
    "\n",
    "$$e=\\frac{1}{0!}+\\frac{1}{1!}+\\frac{1}{2!}+\\frac{1}{3!}+\\frac{1}{4!}+\\frac{1}{5!}+...   (1)$$\n",
    "\n",
    "__Nota__: El formato de salida debe ser: e es aproximadamente: 2.5\n"
   ]
  },
  {
   "cell_type": "code",
   "execution_count": 1,
   "metadata": {},
   "outputs": [
    {
     "name": "stdout",
     "output_type": "stream",
     "text": [
      "Ingrese el numero: 3\n",
      "e es aproximadamente: 2.5\n"
     ]
    }
   ],
   "source": [
    "# pedir el numero al usuario\n",
    "num = int(input(\"Ingrese el numero: \"))\n",
    "\n",
    "factorial = 1\n",
    "e = 1\n",
    "# verifica si es negativo, cero o positivo\n",
    "if num < 0:\n",
    "    print(\"Debe ingresar un numero positivo\")\n",
    "elif num == 0:\n",
    "    print(\"e es aproximadamente:\",e)\n",
    "else:\n",
    "    for i in range(1,num):\n",
    "        factorial = factorial*i\n",
    "        e += 1/factorial\n",
    "        \n",
    "    e=format(e,'0.1f')\n",
    "    print(\"e es aproximadamente:\",e)"
   ]
  },
  {
   "cell_type": "markdown",
   "metadata": {},
   "source": [
    "<hr style=\"height:1px\">\n",
    "\n",
    "- Implemente el anterior ejercicio en una función."
   ]
  },
  {
   "cell_type": "code",
   "execution_count": 60,
   "metadata": {},
   "outputs": [
    {
     "name": "stdout",
     "output_type": "stream",
     "text": [
      "e es aproximadamente: 2.5\n"
     ]
    }
   ],
   "source": [
    "def calculate_e(num):\n",
    "    factorial = 1\n",
    "    e = 1\n",
    "    # verifica si es negativo, cero o positivo\n",
    "    if num < 0:\n",
    "        print(\"Error, debe ingresar un numero positivo\")\n",
    "    elif num == 0:\n",
    "        return e\n",
    "    else:\n",
    "        for i in range(1,num):\n",
    "            factorial = factorial*i\n",
    "            e += 1/factorial\n",
    "\n",
    "        e=format(e,'0.1f')\n",
    "        return e\n",
    "\n",
    "    ## ejecutamos la funcion definida\n",
    "e = calculate_e(3)\n",
    "print(\"e es aproximadamente:\",e)"
   ]
  },
  {
   "cell_type": "markdown",
   "metadata": {},
   "source": [
    "<hr style=\"height:1px\">\n",
    "\n",
    "- Pida en un bucle _while_ un nombre y una edad, almacénelos en una lista de duplas, hasta que el usuario diga\n",
    "no más. Ahora recorra esa lista mediante un ciclo _for_ , imprimiendo nombre y edad, e indicando si es mayor\n",
    "de edad o no."
   ]
  },
  {
   "cell_type": "code",
   "execution_count": 68,
   "metadata": {},
   "outputs": [
    {
     "name": "stdout",
     "output_type": "stream",
     "text": [
      "Ingrese nombre:stiven\n",
      "Ingrese edad:23\n",
      "Ingrese nombre:juan\n",
      "Ingrese edad:9\n",
      "Ingrese nombre:lorena\n",
      "Ingrese edad:18\n",
      "Ingrese nombre:no mas\n",
      "\n",
      "\n",
      "Hola stiven, tienes 23 años. SI eres mayor de edad :D\n",
      "Hola juan, tienes 9 años. NO eres mayor de edad :/\n",
      "Hola lorena, tienes 18 años. SI eres mayor de edad :D\n"
     ]
    }
   ],
   "source": [
    "lista = []\n",
    "nombre = \"\"\n",
    "edad = -1\n",
    "nombre = input(\"Ingrese nombre:\") \n",
    "\n",
    "while nombre != \"no mas\":\n",
    "    edad = int(input(\"Ingrese edad:\"))\n",
    "    if nombre != \"\" and edad != \"\":\n",
    "        lista.append([nombre, edad])\n",
    "    nombre = input(\"Ingrese nombre:\")   \n",
    "\n",
    "print(\"\\n\")\n",
    "for i, j in lista:\n",
    "    if j < 18:\n",
    "        msj = \"NO eres mayor de edad :/\"\n",
    "    else:\n",
    "        msj = \"SI eres mayor de edad :D\"\n",
    "    print(\"Hola {}, tienes {} años. {}\".format(i,j,msj))\n",
    "    \n",
    "#print(lista)"
   ]
  },
  {
   "cell_type": "markdown",
   "metadata": {},
   "source": [
    "<hr style=\"height:1px\">\n",
    "\n",
    "- Implemente el anterior ejercicio en varias funciones. Una debe retornar la dupla de nombre y edad. Otra debe\n",
    "recibir una edad y retornar un valor Booleano indicando si es mayor de edad o no."
   ]
  },
  {
   "cell_type": "code",
   "execution_count": 92,
   "metadata": {},
   "outputs": [
    {
     "name": "stdout",
     "output_type": "stream",
     "text": [
      "Ingrese nombre:stiven\n",
      "Ingrese edad:23\n",
      "Ingrese nombre:juan\n",
      "Ingrese edad:9\n",
      "Ingrese nombre:no mas\n",
      "\n",
      "\n",
      "[['stiven', 23], ['juan', 9]]\n",
      "\n",
      "\n",
      "Mayor de edad = True, Menor de edad = False\n",
      "True\n",
      "False\n"
     ]
    }
   ],
   "source": [
    "def NameAge():\n",
    "    lista = []\n",
    "    nombre = input(\"Ingrese nombre:\") \n",
    "    while nombre != \"no mas\":\n",
    "        edad = int(input(\"Ingrese edad:\"))\n",
    "        if nombre != \"\" and edad != \"\":\n",
    "            lista.append([nombre, edad])\n",
    "        nombre = input(\"Ingrese nombre:\")     \n",
    "    return lista\n",
    "\n",
    "def LegalAge(num):\n",
    "    if num < 18:\n",
    "        return False\n",
    "    else:\n",
    "        return True\n",
    "\n",
    "nombres = NameAge()\n",
    "print(\"\\n\")\n",
    "print(nombres)\n",
    "print(\"\\n\")\n",
    "\n",
    "print(\"Mayor de edad = True, Menor de edad = False\")\n",
    "for edad in nombres:\n",
    "    print(LegalAge(edad[1]))       \n",
    "    "
   ]
  },
  {
   "cell_type": "markdown",
   "metadata": {},
   "source": [
    "<hr style=\"height:1px\">\n",
    "\n",
    "# 3. Ejercicios con senales y numpy\n",
    "\n",
    "- Cierto sistema necesita que usted calcule una métrica. Sea C ∈ R\n",
    "n×n una matriz n × n de números reales.\n",
    "Genera una matriz aleatoria C donde n es ingresado por el usuario (n es un número entero). Calcule la métrica\n",
    "de acuerdo a la Ecuación 2, donde tr(C) es la traza de la matriz C.\n",
    "\n",
    "$$metrica = \\frac{tr(C)}{\\sum_{i=0}^{n-1}\\sum_{j=0}^{n-1}c_{ij}}(2)$$ \n",
    "\n",
    "**Nota:** La traza de una matriz es la sumatoria de los elementos de su diagonal principal."
   ]
  },
  {
   "cell_type": "code",
   "execution_count": 126,
   "metadata": {},
   "outputs": [
    {
     "name": "stdout",
     "output_type": "stream",
     "text": [
      "Ingrese la dimensión de la matriz aleatoria:4\n",
      "\n",
      "\n",
      "matriz=\n",
      " [[13 11  3  4]\n",
      " [13  9  5 15]\n",
      " [15 15  1  9]\n",
      " [ 0  7  6  8]]\n",
      "cij= 134\n",
      "traza= 31\n",
      "metrica= 0.23\n"
     ]
    }
   ],
   "source": [
    "import numpy as np\n",
    "#numpy para el generador de numeros aleatorios\n",
    "\n",
    "n = int(input(\"Ingrese la dimensión de la matriz aleatoria:\"))\n",
    "matriz = np.random.randint(n*n, size=(n,n))\n",
    "tr = 0 #inicializar la traza de la matriz\n",
    "n = 0 #indice de cada fila de la matriz\n",
    "c = 0\n",
    "\n",
    "for row in matriz:\n",
    "    c += np.sum(row)\n",
    "    tr += row[n]\n",
    "    n += 1\n",
    "\n",
    "print(\"\\n\")\n",
    "print(\"matriz=\\n\",matriz)\n",
    "print(\"cij=\",c)\n",
    "print(\"traza=\",tr)\n",
    "print(\"metrica=\",format(tr/c,'0.2f'))"
   ]
  },
  {
   "cell_type": "markdown",
   "metadata": {},
   "source": [
    "<hr style=\"height:1px\">\n",
    "\n",
    "- El siguiente código genera una senal aleatoria de longitud variable (de acuerdo a su edad):\n"
   ]
  },
  {
   "cell_type": "code",
   "execution_count": 2,
   "metadata": {},
   "outputs": [],
   "source": [
    "import numpy as np\n",
    "import matplotlib.pyplot as plt # libreria usada para graficas\n",
    "\n",
    "edad = 23 # AQUI SU EDAD\n",
    "senal=np.empty((0,))\n",
    "matriz=np.empty((0,100))\n",
    "\n",
    "for i in range(edad):\n",
    "    ventana=np.random.rand()*np.random.randn(100)+np.random.rand()\n",
    "    senal=np.hstack((senal,ventana)) # Para concatenar en un vector\n",
    "    matriz=np.vstack((matriz,ventana)) # Para concatenar en una matriz\n"
   ]
  },
  {
   "cell_type": "markdown",
   "metadata": {},
   "source": [
    "Grafique la senal (en la variable senal). Nombre los ejes, utilice la cuadrícula. Recuerde utilizar el\n",
    "comando _%matplotlib inline_ para que la gráfica se incruste en el notebook.\n",
    "Ahora utilice un ciclo _for_ para recorrer cada una de las filas de la matriz con las ventanas, y en cada iteración\n",
    "calcule e imprima la media y la desviación estándar. ¿Cómo se relacionan estos valores con la gráfica que\n",
    "generó anteriormente?"
   ]
  },
  {
   "cell_type": "code",
   "execution_count": 18,
   "metadata": {},
   "outputs": [
    {
     "data": {
      "image/png": "[encoded data removed]",
      "text/plain": [
       "<Figure size 432x288 with 1 Axes>"
      ]
     },
     "metadata": {
      "needs_background": "light"
     },
     "output_type": "display_data"
    },
    {
     "name": "stdout",
     "output_type": "stream",
     "text": [
      "0 : media= 0.8133972746849076 std= 0.7768176654495813\n",
      "1 : media= 0.1508755938561911 std= 0.6765490112154243\n",
      "2 : media= 0.77148501964443 std= 0.9710051948737316\n",
      "3 : media= 0.36073146084846597 std= 0.7904014998368347\n",
      "4 : media= 0.4550926238038203 std= 0.1771525271065535\n",
      "5 : media= 0.9427885579867912 std= 0.061438741447683486\n",
      "6 : media= 0.6491307879995021 std= 1.0045688524438803\n",
      "7 : media= 0.7943880322503251 std= 0.22931945454968414\n",
      "8 : media= 0.11589833579120114 std= 0.4737573594479241\n",
      "9 : media= 0.09356100729174552 std= 0.801381453315633\n",
      "10 : media= -0.02460349733667674 std= 0.6777863836183221\n",
      "11 : media= 0.7898193352723859 std= 0.5561620226455393\n",
      "12 : media= 0.6553966407398572 std= 0.8040616633252913\n",
      "13 : media= 0.7411943763806498 std= 1.0899617832732844\n",
      "14 : media= 0.24562218604853392 std= 0.5277401860144387\n",
      "15 : media= 0.05371721360500912 std= 0.677392592792803\n",
      "16 : media= 0.2014911710292081 std= 0.8490446579032302\n",
      "17 : media= -0.018004115131170915 std= 0.8526841404870855\n",
      "18 : media= 0.6373670617495232 std= 0.8129934797841686\n",
      "19 : media= 0.4951016256752141 std= 0.6579392472929803\n",
      "20 : media= 0.3112187383345341 std= 0.0988831801378923\n",
      "21 : media= 0.16120110883022218 std= 0.8170858317648425\n",
      "22 : media= 0.7168175277314578 std= 0.969386239549409\n"
     ]
    }
   ],
   "source": [
    "# para que la grafica se incruste en el notebook\n",
    "%matplotlib inline\n",
    "\n",
    "plt.plot(senal,'y')\n",
    "plt.xlabel('Ventana matricial',fontsize=12)\n",
    "plt.ylabel('Amplitude',fontsize=12)\n",
    "plt.grid()\n",
    "plt.show()\n",
    "i=0\n",
    "\n",
    "for row in matriz:\n",
    "    print(i,\": media=\",np.mean(row),\"std=\",np.std(row))\n",
    "    i += 1\n"
   ]
  },
  {
   "cell_type": "markdown",
   "metadata": {},
   "source": [
    "Se observa claramente que cada valor medio para cada fila de la matriz corresponde a su valor ponderado en la gráfica para la ventana matricial y esto se debe, en parte, porque la función que genera los numeros aleatorios _random.rand()_ de la librería _numpy_ genera tales numeros bajo la condicion de ser una **distribucion uniforme** por lo tanto, su media corresponde con el valor ponderado en la grafica. por ejemplo el punto 500 de la gráfica aproximadamente vira entorno al valor 1 de amplitud, esto corresponde, segun el valor medio calculado en 5 igual a 0.942, teniendo un comportamiento bastante similar. Mientras que el valor de la _desviación estandar_ representa que tan alejado o cercano puede ser este valor al valor real representado en la gráfica."
   ]
  },
  {
   "cell_type": "markdown",
   "metadata": {},
   "source": [
    "<hr style=\"height:1px\">\n",
    "\n",
    "- Implemente en dos funciones el anterior ejemplo, la primera debe recibir su edad (o el número de iteraciones\n",
    "del ciclo) y devolver la senal y la matriz de ventanas. La segunda debe recibir estas dos variables, graficar la\n",
    "senal y devolver un vector con las medias y desviaciones estándar por ventana."
   ]
  },
  {
   "cell_type": "code",
   "execution_count": 4,
   "metadata": {},
   "outputs": [
    {
     "name": "stdout",
     "output_type": "stream",
     "text": [
      "Ingrese su edad:5\n"
     ]
    },
    {
     "data": {
      "image/png": "[encoded data removed]",
      "text/plain": [
       "<Figure size 432x288 with 1 Axes>"
      ]
     },
     "metadata": {
      "needs_background": "light"
     },
     "output_type": "display_data"
    },
    {
     "data": {
      "text/plain": [
       "[[0.9769217020030571, 0.14357398529878132],\n",
       " [0.5314317031191557, 0.852341101693201],\n",
       " [0.6765449011809312, 0.18235377885223383],\n",
       " [0.8861337310439752, 0.0780933045288136],\n",
       " [0.5350628673462307, 0.056993236662731525]]"
      ]
     },
     "execution_count": 4,
     "metadata": {},
     "output_type": "execute_result"
    }
   ],
   "source": [
    "nuevaedad = int(input(\"Ingrese su edad:\"))\n",
    "\n",
    "def senalAleatoria(nuevaedad):\n",
    "    sig=np.empty((0,))\n",
    "    mat=np.empty((0,100))\n",
    "\n",
    "    for i in range(nuevaedad):\n",
    "        vent=np.random.rand()*np.random.randn(100)+np.random.rand()\n",
    "        sig=np.hstack((sig,vent)) # Para concatenar en un vector\n",
    "        mat=np.vstack((mat,vent)) # Para concatenar en una matriz\n",
    "        \n",
    "    return sig, mat\n",
    "\n",
    "def graph(sig,mat):\n",
    "    plt.plot(sig,'b')\n",
    "    plt.xlabel('Ventana matricial',fontsize=12)\n",
    "    plt.ylabel('Amplitude',fontsize=12)\n",
    "    plt.grid()\n",
    "    plt.show()\n",
    "    i=0\n",
    "    statistics = []\n",
    "    \n",
    "    for fila in mat:\n",
    "        statistics.append([np.mean(fila), np.std(fila)])\n",
    "        #print(i,\": media=\",np.mean(fila),\"std=\",np.std(fila))\n",
    "        i += 1\n",
    "    \n",
    "    return statistics\n",
    "\n",
    "sig, mat = senalAleatoria(nuevaedad)\n",
    "##  \n",
    "    \n",
    "graph(sig,mat)\n",
    "##"
   ]
  },
  {
   "cell_type": "code",
   "execution_count": null,
   "metadata": {},
   "outputs": [],
   "source": []
  }
 ],
 "metadata": {
  "kernelspec": {
   "display_name": "Python 3",
   "language": "python",
   "name": "python3"
  },
  "language_info": {
   "codemirror_mode": {
    "name": "ipython",
    "version": 3
   },
   "file_extension": ".py",
   "mimetype": "text/x-python",
   "name": "python",
   "nbconvert_exporter": "python",
   "pygments_lexer": "ipython3",
   "version": "3.8.3"
  }
 },
 "nbformat": 4,
 "nbformat_minor": 4
}
